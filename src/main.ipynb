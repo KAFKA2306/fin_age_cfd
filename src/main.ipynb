{
 "cells": [
  {
   "cell_type": "code",
   "execution_count": 1,
   "metadata": {},
   "outputs": [
    {
     "name": "stdout",
     "output_type": "stream",
     "text": [
      "Parquetファイル保存完了: M:\\ML\\Finance\\fin_age_cfd\\output\\combined_data\\combined_data_20250411_195420.parquet\n",
      "結合されたParquetファイル: M:\\ML\\Finance\\fin_age_cfd\\output\\combined_data\\combined_data_20250411_195420.parquet\n",
      "ヒストリカルデータ for AAPL: []\n",
      "ヒストリカルデータなし: AAPL\n",
      "ヒストリカルデータ for GBPUSD: []\n",
      "ヒストリカルデータなし: GBPUSD\n",
      "ヒストリカルデータ for BTCUSD: []\n",
      "ヒストリカルデータなし: BTCUSD\n",
      "ヒストリカルデータ for ^GSPC: []\n",
      "ヒストリカルデータなし: ^GSPC\n"
     ]
    }
   ],
   "source": [
    "from main import main as run\n",
    "run()"
   ]
  },
  {
   "cell_type": "code",
   "execution_count": null,
   "metadata": {},
   "outputs": [
    {
     "name": "stdout",
     "output_type": "stream",
     "text": [
      "Parquetファイル保存完了: M:\\ML\\Finance\\fin_age_cfd\\output\\combined_data\\combined_data_20250411_195040.parquet\n",
      "結合されたParquetファイル: M:\\ML\\Finance\\fin_age_cfd\\output\\combined_data\\combined_data_20250411_195040.parquet\n",
      "ヒストリカルデータ for AAPL: []\n",
      "ヒストリカルデータなし: AAPL\n",
      "ヒストリカルデータ for GBPUSD: []\n",
      "ヒストリカルデータなし: GBPUSD\n",
      "ヒストリカルデータ for BTCUSD: []\n",
      "ヒストリカルデータなし: BTCUSD\n",
      "ヒストリカルデータ for ^GSPC: []\n",
      "ヒストリカルデータなし: ^GSPC\n"
     ]
    }
   ],
   "source": []
  },
  {
   "cell_type": "code",
   "execution_count": null,
   "metadata": {},
   "outputs": [
    {
     "name": "stdout",
     "output_type": "stream",
     "text": [
      "Parquetファイル保存完了: M:\\ML\\Finance\\fin_age_cfd\\output\\combined_data\\combined_data_20250411_195040.parquet\n",
      "結合されたParquetファイル: M:\\ML\\Finance\\fin_age_cfd\\output\\combined_data\\combined_data_20250411_195040.parquet\n",
      "ヒストリカルデータ for AAPL: []\n",
      "ヒストリカルデータなし: AAPL\n",
      "ヒストリカルデータ for GBPUSD: []\n",
      "ヒストリカルデータなし: GBPUSD\n",
      "ヒストリカルデータ for BTCUSD: []\n",
      "ヒストリカルデータなし: BTCUSD\n",
      "ヒストリカルデータ for ^GSPC: []\n",
      "ヒストリカルデータなし: ^GSPC\n"
     ]
    }
   ],
   "source": []
  }
 ],
 "metadata": {
  "language_info": {
   "name": "python"
  }
 },
 "nbformat": 4,
 "nbformat_minor": 2
}
